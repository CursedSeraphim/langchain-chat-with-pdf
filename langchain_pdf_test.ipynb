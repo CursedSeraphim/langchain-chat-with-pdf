{
 "cells": [
  {
   "cell_type": "code",
   "execution_count": 1,
   "metadata": {},
   "outputs": [
    {
     "name": "stdout",
     "output_type": "stream",
     "text": [
      "page_content='2 3\\nMÖRK BORG BARE BONES EDITIONMan? Woman? Lost souls all.\\nd6 d8 Name\\n1 1 Aerg-Tval\\n2 Agn\\n3 Arvant\\n4 Belsum\\n5 Belum\\n6 Brint\\n7 Börda\\n8 Daeru\\n2 1 Eldar\\n2 Felban\\n3 Gotven\\n4 Graft\\n5 Grin\\n6 Grittr\\n7 Haerü\\n8 Hargha\\n3 1 Harmug\\n2 Jotna\\n3 Karg\\n4 Karva\\n5 Katla\\n6 Keftar\\n7 Klort\\n8 Kratard6 d8 Name\\n4 1 Kutz\\n2 Kvetin\\n3 Lygan\\n4 Margar\\n5 Merkari\\n6 Nagl\\n7 Niduk\\n8 Nifehl\\n5 1 Prügl\\n2 Qillnach\\n3 Risten\\n4 Svind\\n5 Theras\\n6 Therg\\n7 Torvul\\n8 Törn\\n6 1 Urm\\n2 Urvarg\\n3 Vagal\\n4 Vatan\\n5 Von\\n6 Vrakh\\n7 Vresi\\n8 Wemut' metadata={'source': './pdfs/MÖRK BORG BARE BONES EDITION.pdf', 'page': 1}\n"
     ]
    }
   ],
   "source": [
    "from langchain.document_loaders import PyPDFLoader\n",
    "\n",
    "loader = PyPDFLoader('./pdfs/MÖRK BORG BARE BONES EDITION.pdf')\n",
    "pages = loader.load_and_split()\n",
    "print(pages[1])"
   ]
  },
  {
   "cell_type": "code",
   "execution_count": 2,
   "metadata": {},
   "outputs": [],
   "source": [
    "import os\n",
    "\n",
    "openai_key = os.getenv('OPENAI_API_KEY')\n",
    "# os.environ['OPENAI_API_KEY'] = openai_key\n"
   ]
  },
  {
   "cell_type": "code",
   "execution_count": 3,
   "metadata": {},
   "outputs": [
    {
     "name": "stdout",
     "output_type": "stream",
     "text": [
      "33: 34 35\n",
      "MÖRK BORG BARE BONES EDITIONPowers\n",
      "A few so-cAlled powers are known and they are usually \n",
      "found written in scrolls.\n",
      "Roll Presence + d4 every morning to determine how many times \n",
      "you can use Powers that day; choose from your available scrolls. When reading a scroll, test Presence dr1 2. If you succeed, the \n",
      "Power is activated and you subtract one use from your daily total. If you fail, the Power doesn’t work, you lose d2 hp and you become dizzy for the next hour. During this time, Powers will always fail in the worst possible way.\n",
      "The gm decides the effect on a Crit or Fumble, but on page 43 is \n",
      "an optional table of arcane catastrophes.\n",
      "uNcleaN scrOlls d10\n",
      "1  pAlms open the southern gAte: A ball of fire hits \n",
      "d2 creatures dealing d8 damage per creature.\n",
      "2  tongue of eris: A creature of your choice is confused \n",
      "for 10 minutes.\n",
      "3  te-le-kin-esis: Move an object up to d10×10 feet \n",
      "for d6 minutes.\n",
      "4  lucy-fires levitAtion: Hover for Presence + d10 rounds.\n",
      "5  dAemon of cApillAries: One creature suffocates for \n",
      "d6 rounds, losing d4 hp per round.\n",
      "6  nine violet signs unknot the storm: Produce \n",
      "d2 lightning bolts dealing d6 damage each.\n",
      "7  metzhuotl blind your eye: A creature becomes invisible \n",
      "for d6 rounds or until it is damaged, attacking/defending with dr6 .\n",
      "34: 35\n",
      "MÖRK BORG BARE BONES EDITIONuNcleaN scrOlls d10, cONt.\n",
      "8  foul psychompomp: Summon (d6): 1–3 d4 sk eletons  \n",
      "    4–6 d4 zombies\n",
      "9  eyelid blinds the mind: d4 creatures fall asleep for one \n",
      "hour unless they succeed a dr1 4 test.\n",
      "10  deAth: All creatures within 30 feet lose a total of 4d10 hp.\n",
      "sacred scrOlls d10\n",
      "1  grAce of A deAd sAint: d2 creatures regain d10 hp each.\n",
      "2  grAce for A sinner: A creature of your choice gets +d6 on \n",
      "one roll (damage, tests etc.)\n",
      "3  whispers pAss the gAte: Ask three questions to a deceased\n",
      "creature.\n",
      "4  Aegis of sorrow: A creature of your choice gains 2d6 extra\n",
      "hp for 10 rounds.\n",
      "5  unmet fAte: One creature, dead for no more than a week, \n",
      "is awakened with terrible memories.\n",
      "6  bestiAl speech: You may speak with animals for d20 \n",
      "minutes.\n",
      "7  fAlse dA wn/night’s chAriot: Light or pitch black for \n",
      "3d10 minutes.\n",
      "8  hermetic step: You find all traps in your path for \n",
      "2d10 minutes.\n",
      "9  roskoe’s consuming glAre: d4 creatures lose d8 hp each.\n",
      "10  enochiAn syntAx: One creature blindly obeys a single \n",
      "command.\n"
     ]
    }
   ],
   "source": [
    "from langchain.vectorstores import FAISS\n",
    "from langchain.embeddings.openai import OpenAIEmbeddings\n",
    "\n",
    "faiss_index = FAISS.from_documents(pages, OpenAIEmbeddings())  # model=\"gpt-3.5-turbo\"))\n",
    "docs = faiss_index.similarity_search(\"What spells are listed in the rules?\", k=2)\n",
    "for doc in docs:\n",
    "    print(str(doc.metadata[\"page\"]) + \":\", doc.page_content)"
   ]
  }
 ],
 "metadata": {
  "kernelspec": {
   "display_name": ".venv",
   "language": "python",
   "name": "python3"
  },
  "language_info": {
   "codemirror_mode": {
    "name": "ipython",
    "version": 3
   },
   "file_extension": ".py",
   "mimetype": "text/x-python",
   "name": "python",
   "nbconvert_exporter": "python",
   "pygments_lexer": "ipython3",
   "version": "3.11.0"
  },
  "orig_nbformat": 4
 },
 "nbformat": 4,
 "nbformat_minor": 2
}
